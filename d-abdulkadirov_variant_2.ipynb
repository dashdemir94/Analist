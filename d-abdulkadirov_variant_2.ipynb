{
 "cells": [
  {
   "cell_type": "code",
   "execution_count": 39,
   "metadata": {},
   "outputs": [],
   "source": [
    "#импортируем библиотеки\n",
    "import pandas as pd\n",
    "import numpy as np\n",
    "import matplotlib.pyplot as plt\n",
    "import seaborn as sns\n",
    "\n",
    "import scipy\n",
    "from scipy.stats import norm\n",
    "from scipy.stats import chi2_contingency\n",
    "from urllib.parse import urlencode\n",
    "\n",
    "import requests\n",
    "from tqdm.auto import tqdm\n",
    "import pingouin as pg\n",
    "import pandahouse as ph\n",
    "import warnings\n",
    "import json\n",
    "\n",
    "%matplotlib inline\n",
    "from tqdm.auto import tqdm\n",
    "#зададим размер графика\n",
    "sns.set(rc={'figure.figsize' : (10, 6)})"
   ]
  },
  {
   "cell_type": "markdown",
   "metadata": {},
   "source": [
    "Задание 1. A/B–тестирование\n",
    "\n",
    "1.1 Условие задачи:\n",
    "\n",
    "В ходе тестирования одной гипотезы целевой группе была предложена новая механика оплаты услуг на сайте, у контрольной группы оставалась базовая механика. В качестве задания Вам необходимо проанализировать итоги эксперимента и сделать вывод, стоит ли запускать новую механику оплаты на всех пользователей."
   ]
  },
  {
   "cell_type": "markdown",
   "metadata": {},
   "source": [
    "Входные данные\n",
    "\n",
    "1.groups.csv - файл с информацией о принадлежности пользователя к контрольной или экспериментальной группе (А – контроль, B – целевая группа).\n",
    "\n",
    "2.groups_add.csv - дополнительный файл с пользователями, который вам прислали спустя 2 дня после передачи данных.2.\n",
    "\n",
    "3.active_studs.csv - файл с информацией о пользователях, которые зашли на платформу в дни проведения эксперимента.\n",
    "\n",
    "4.checks.csv - файл с информацией об оплатах пользователей в дни проведения эксперимента.\n",
    "\n"
   ]
  },
  {
   "cell_type": "markdown",
   "metadata": {},
   "source": [
    "1.3 Вопросы\n",
    "\n",
    "Предлагаем Вам ответить на следующие вопросы:\n",
    "\n",
    "1 На какие метрики Вы смотрите в ходе анализа и почему?\n",
    "\n",
    "2 Имеются ли различия в показателях и с чем они могут быть связаны?\n",
    "\n",
    "3 Являются ли эти различия статистически значимыми?\n",
    "\n",
    "4 Стоит ли запускать новую механику на всех пользователей?"
   ]
  },
  {
   "cell_type": "markdown",
   "metadata": {},
   "source": [
    "Недостающая информация\n",
    "\n",
    "В задании упоминается \"в ходе тестирования одной гипотезы...\", но о самой гипотезе ничего не сказано.\n",
    "\n",
    "Ничего неизвестно о периоде проведения эксперимента. Неизвестно в разрезе какого временного показателя (месяц, неделя, день) на наших руках данные.\n",
    "\n",
    "Неизвестно на что опираются новая/старая механики оплаты услуг на сайте и какие целевые действия производит пользователь перед тем как перейти к оплате.\n",
    "\n",
    "Неизвестно откуда появились пользователи из таблицы groups_add.csv. Участвовали ли они с самого запуска эксперимента или же были довалены откуда-то отдельно.\n",
    "\n",
    "Неизвестно каким образом формировалась колонка rev в таблице checks.csv. Это суммы всех оплат каждого пользователя за n-ый период времени или это одна единственная оплата."
   ]
  },
  {
   "cell_type": "markdown",
   "metadata": {},
   "source": [
    "Основные гипотезы, которые будем проверять\n",
    "\n",
    "H0 - Новая механика оплаты услуг на сайте в группе B не отличается от старой механики, оставленной в группе A.\n",
    "\n",
    "H1 - Новая механика оплаты услуг на сайте в группе B имеет значимые различия в сравнении с механикой в группе A."
   ]
  },
  {
   "cell_type": "markdown",
   "metadata": {},
   "source": [
    "Замечания\n",
    "В связи с тем, что таблица groups_add.csv была передана спустя два дня после получения основных данных, а о происхождении добавленных пользователей мы ничего не знаем, и о периоде проведения эксперимента тоже ничего не знаем, то будем считать, что эти данные собирались из разных источников, но в рамках проведения эксперимента. Поэтому включаем пользователей из таблицы groups_add.csv в АБ-тест."
   ]
  },
  {
   "cell_type": "code",
   "execution_count": 40,
   "metadata": {},
   "outputs": [],
   "source": [
    "warnings.filterwarnings(\"ignore\", category=DeprecationWarning) \n",
    "sns.set_palette(\"pastel\")\n",
    "sns.set_style('whitegrid')"
   ]
  },
  {
   "cell_type": "code",
   "execution_count": 41,
   "metadata": {},
   "outputs": [],
   "source": [
    "def get_dowland(yandex_link):\n",
    "    base_url     = 'https://cloud-api.yandex.net/v1/disk/public/resources/download?'  \n",
    "    public_key   = yandex_link    \n",
    "    final_url    = base_url + urlencode(dict(public_key=public_key))                 \n",
    "    response     = requests.get(final_url) \n",
    "    download_url = response.json()['href']                                        \n",
    "    return pd.read_csv(download_url, sep=\";|,\", engine ='python')    "
   ]
  },
  {
   "cell_type": "code",
   "execution_count": 42,
   "metadata": {},
   "outputs": [],
   "source": [
    "df_groups          = get_dowland('https://disk.yandex.ru/d/UhyYx41rTt3clQ')\n",
    "df_groups_add      = get_dowland('https://disk.yandex.ru/d/5Kxrz02m3IBUwQ') \n",
    "df_active_studs = get_dowland('https://disk.yandex.ru/d/Tbs44Bm6H_FwFQ') \n",
    "df_checks          = get_dowland('https://disk.yandex.ru/d/pH1q-VqcxXjsVA') "
   ]
  },
  {
   "cell_type": "code",
   "execution_count": 43,
   "metadata": {},
   "outputs": [
    {
     "data": {
      "text/html": [
       "<div>\n",
       "<style scoped>\n",
       "    .dataframe tbody tr th:only-of-type {\n",
       "        vertical-align: middle;\n",
       "    }\n",
       "\n",
       "    .dataframe tbody tr th {\n",
       "        vertical-align: top;\n",
       "    }\n",
       "\n",
       "    .dataframe thead th {\n",
       "        text-align: right;\n",
       "    }\n",
       "</style>\n",
       "<table border=\"1\" class=\"dataframe\">\n",
       "  <thead>\n",
       "    <tr style=\"text-align: right;\">\n",
       "      <th></th>\n",
       "      <th>id</th>\n",
       "      <th>grp</th>\n",
       "    </tr>\n",
       "  </thead>\n",
       "  <tbody>\n",
       "    <tr>\n",
       "      <th>0</th>\n",
       "      <td>1489</td>\n",
       "      <td>B</td>\n",
       "    </tr>\n",
       "    <tr>\n",
       "      <th>1</th>\n",
       "      <td>1627</td>\n",
       "      <td>A</td>\n",
       "    </tr>\n",
       "    <tr>\n",
       "      <th>2</th>\n",
       "      <td>1768</td>\n",
       "      <td>B</td>\n",
       "    </tr>\n",
       "    <tr>\n",
       "      <th>3</th>\n",
       "      <td>1783</td>\n",
       "      <td>B</td>\n",
       "    </tr>\n",
       "    <tr>\n",
       "      <th>4</th>\n",
       "      <td>1794</td>\n",
       "      <td>A</td>\n",
       "    </tr>\n",
       "    <tr>\n",
       "      <th>...</th>\n",
       "      <td>...</td>\n",
       "      <td>...</td>\n",
       "    </tr>\n",
       "    <tr>\n",
       "      <th>74479</th>\n",
       "      <td>5692459</td>\n",
       "      <td>B</td>\n",
       "    </tr>\n",
       "    <tr>\n",
       "      <th>74480</th>\n",
       "      <td>5692572</td>\n",
       "      <td>B</td>\n",
       "    </tr>\n",
       "    <tr>\n",
       "      <th>74481</th>\n",
       "      <td>5692865</td>\n",
       "      <td>B</td>\n",
       "    </tr>\n",
       "    <tr>\n",
       "      <th>74482</th>\n",
       "      <td>5693667</td>\n",
       "      <td>B</td>\n",
       "    </tr>\n",
       "    <tr>\n",
       "      <th>74483</th>\n",
       "      <td>5694419</td>\n",
       "      <td>B</td>\n",
       "    </tr>\n",
       "  </tbody>\n",
       "</table>\n",
       "<p>74484 rows × 2 columns</p>\n",
       "</div>"
      ],
      "text/plain": [
       "            id grp\n",
       "0         1489   B\n",
       "1         1627   A\n",
       "2         1768   B\n",
       "3         1783   B\n",
       "4         1794   A\n",
       "...        ...  ..\n",
       "74479  5692459   B\n",
       "74480  5692572   B\n",
       "74481  5692865   B\n",
       "74482  5693667   B\n",
       "74483  5694419   B\n",
       "\n",
       "[74484 rows x 2 columns]"
      ]
     },
     "execution_count": 43,
     "metadata": {},
     "output_type": "execute_result"
    }
   ],
   "source": [
    "df_groups"
   ]
  },
  {
   "cell_type": "markdown",
   "metadata": {},
   "source": [
    "<H3>EDA</H3>"
   ]
  },
  {
   "cell_type": "markdown",
   "metadata": {},
   "source": [
    "<H4>Знакомимся с таблицами</H4>"
   ]
  },
  {
   "cell_type": "code",
   "execution_count": 44,
   "metadata": {},
   "outputs": [],
   "source": [
    "#Функция для проверки содержимого датасетов\n",
    "\n",
    "def check_df_values(df, df_name):    \n",
    "    df_info = pd.DataFrame(columns= ['',\n",
    "                                     'Записей',\n",
    "                                     'Уникальных',\n",
    "                                     'Дублей',\n",
    "                                     'NaN',\n",
    "                                     'не NaN',\n",
    "                                     'Тип'],\n",
    "                              data=[[f'Сведения о \"{df_name}\"',\n",
    "                                     df.shape[0],\n",
    "                                     '',\n",
    "                                     '',\n",
    "                                     '',\n",
    "                                     '',\n",
    "                                     '']])\n",
    "    for col in df.columns:\n",
    "        df_info = pd.concat([df_info, \n",
    "              pd.DataFrame(columns= ['',\n",
    "                                     'Записей',\n",
    "                                     'Уникальных',\n",
    "                                     'Дублей',\n",
    "                                     'NaN',\n",
    "                                     'не NaN',\n",
    "                                     'Тип'],\n",
    "                              data=[[f'Колонка \"{col}\"', \n",
    "                                     df[col].shape[0], \n",
    "                                     df[col].nunique(),\n",
    "                                     df[col].duplicated().sum(),\n",
    "                                     df[col].isna().sum(),\n",
    "                                     df[col].notna().sum(),\n",
    "                                     df[col].dtype]])],\n",
    "                              ignore_index=True)\n",
    "    return df_info"
   ]
  },
  {
   "cell_type": "code",
   "execution_count": 45,
   "metadata": {},
   "outputs": [
    {
     "data": {
      "text/html": [
       "<div>\n",
       "<style scoped>\n",
       "    .dataframe tbody tr th:only-of-type {\n",
       "        vertical-align: middle;\n",
       "    }\n",
       "\n",
       "    .dataframe tbody tr th {\n",
       "        vertical-align: top;\n",
       "    }\n",
       "\n",
       "    .dataframe thead th {\n",
       "        text-align: right;\n",
       "    }\n",
       "</style>\n",
       "<table border=\"1\" class=\"dataframe\">\n",
       "  <thead>\n",
       "    <tr style=\"text-align: right;\">\n",
       "      <th></th>\n",
       "      <th>id</th>\n",
       "      <th>grp</th>\n",
       "    </tr>\n",
       "  </thead>\n",
       "  <tbody>\n",
       "    <tr>\n",
       "      <th>0</th>\n",
       "      <td>1489</td>\n",
       "      <td>B</td>\n",
       "    </tr>\n",
       "    <tr>\n",
       "      <th>1</th>\n",
       "      <td>1627</td>\n",
       "      <td>A</td>\n",
       "    </tr>\n",
       "    <tr>\n",
       "      <th>2</th>\n",
       "      <td>1768</td>\n",
       "      <td>B</td>\n",
       "    </tr>\n",
       "    <tr>\n",
       "      <th>3</th>\n",
       "      <td>1783</td>\n",
       "      <td>B</td>\n",
       "    </tr>\n",
       "    <tr>\n",
       "      <th>4</th>\n",
       "      <td>1794</td>\n",
       "      <td>A</td>\n",
       "    </tr>\n",
       "  </tbody>\n",
       "</table>\n",
       "</div>"
      ],
      "text/plain": [
       "     id grp\n",
       "0  1489   B\n",
       "1  1627   A\n",
       "2  1768   B\n",
       "3  1783   B\n",
       "4  1794   A"
      ]
     },
     "execution_count": 45,
     "metadata": {},
     "output_type": "execute_result"
    }
   ],
   "source": [
    "df_groups.head()"
   ]
  },
  {
   "cell_type": "code",
   "execution_count": 46,
   "metadata": {},
   "outputs": [
    {
     "data": {
      "text/html": [
       "<div>\n",
       "<style scoped>\n",
       "    .dataframe tbody tr th:only-of-type {\n",
       "        vertical-align: middle;\n",
       "    }\n",
       "\n",
       "    .dataframe tbody tr th {\n",
       "        vertical-align: top;\n",
       "    }\n",
       "\n",
       "    .dataframe thead th {\n",
       "        text-align: right;\n",
       "    }\n",
       "</style>\n",
       "<table border=\"1\" class=\"dataframe\">\n",
       "  <thead>\n",
       "    <tr style=\"text-align: right;\">\n",
       "      <th></th>\n",
       "      <th></th>\n",
       "      <th>Записей</th>\n",
       "      <th>Уникальных</th>\n",
       "      <th>Дублей</th>\n",
       "      <th>NaN</th>\n",
       "      <th>не NaN</th>\n",
       "      <th>Тип</th>\n",
       "    </tr>\n",
       "  </thead>\n",
       "  <tbody>\n",
       "    <tr>\n",
       "      <th>0</th>\n",
       "      <td>Сведения о \"groups\"</td>\n",
       "      <td>74484</td>\n",
       "      <td></td>\n",
       "      <td></td>\n",
       "      <td></td>\n",
       "      <td></td>\n",
       "      <td></td>\n",
       "    </tr>\n",
       "    <tr>\n",
       "      <th>1</th>\n",
       "      <td>Колонка \"id\"</td>\n",
       "      <td>74484</td>\n",
       "      <td>74484</td>\n",
       "      <td>0</td>\n",
       "      <td>0</td>\n",
       "      <td>74484</td>\n",
       "      <td>int64</td>\n",
       "    </tr>\n",
       "    <tr>\n",
       "      <th>2</th>\n",
       "      <td>Колонка \"grp\"</td>\n",
       "      <td>74484</td>\n",
       "      <td>2</td>\n",
       "      <td>74482</td>\n",
       "      <td>0</td>\n",
       "      <td>74484</td>\n",
       "      <td>object</td>\n",
       "    </tr>\n",
       "  </tbody>\n",
       "</table>\n",
       "</div>"
      ],
      "text/plain": [
       "                        Записей Уникальных Дублей NaN не NaN     Тип\n",
       "0  Сведения о \"groups\"    74484                                     \n",
       "1         Колонка \"id\"    74484      74484      0   0  74484   int64\n",
       "2        Колонка \"grp\"    74484          2  74482   0  74484  object"
      ]
     },
     "execution_count": 46,
     "metadata": {},
     "output_type": "execute_result"
    }
   ],
   "source": [
    "check_df_values(df_groups, 'groups')"
   ]
  },
  {
   "cell_type": "code",
   "execution_count": 47,
   "metadata": {},
   "outputs": [
    {
     "data": {
      "text/html": [
       "<div>\n",
       "<style scoped>\n",
       "    .dataframe tbody tr th:only-of-type {\n",
       "        vertical-align: middle;\n",
       "    }\n",
       "\n",
       "    .dataframe tbody tr th {\n",
       "        vertical-align: top;\n",
       "    }\n",
       "\n",
       "    .dataframe thead th {\n",
       "        text-align: right;\n",
       "    }\n",
       "</style>\n",
       "<table border=\"1\" class=\"dataframe\">\n",
       "  <thead>\n",
       "    <tr style=\"text-align: right;\">\n",
       "      <th></th>\n",
       "      <th>\"student_id\"</th>\n",
       "      <th>\"rev\"</th>\n",
       "    </tr>\n",
       "  </thead>\n",
       "  <tbody>\n",
       "    <tr>\n",
       "      <th>0</th>\n",
       "      <td>1627</td>\n",
       "      <td>990.0</td>\n",
       "    </tr>\n",
       "    <tr>\n",
       "      <th>1</th>\n",
       "      <td>3185</td>\n",
       "      <td>690.0</td>\n",
       "    </tr>\n",
       "    <tr>\n",
       "      <th>2</th>\n",
       "      <td>25973</td>\n",
       "      <td>690.0</td>\n",
       "    </tr>\n",
       "    <tr>\n",
       "      <th>3</th>\n",
       "      <td>26280</td>\n",
       "      <td>690.0</td>\n",
       "    </tr>\n",
       "    <tr>\n",
       "      <th>4</th>\n",
       "      <td>100300</td>\n",
       "      <td>990.0</td>\n",
       "    </tr>\n",
       "  </tbody>\n",
       "</table>\n",
       "</div>"
      ],
      "text/plain": [
       "   \"student_id\"  \"rev\"\n",
       "0          1627  990.0\n",
       "1          3185  690.0\n",
       "2         25973  690.0\n",
       "3         26280  690.0\n",
       "4        100300  990.0"
      ]
     },
     "execution_count": 47,
     "metadata": {},
     "output_type": "execute_result"
    }
   ],
   "source": [
    "df_checks.head()"
   ]
  },
  {
   "cell_type": "code",
   "execution_count": 48,
   "metadata": {},
   "outputs": [
    {
     "data": {
      "text/html": [
       "<div>\n",
       "<style scoped>\n",
       "    .dataframe tbody tr th:only-of-type {\n",
       "        vertical-align: middle;\n",
       "    }\n",
       "\n",
       "    .dataframe tbody tr th {\n",
       "        vertical-align: top;\n",
       "    }\n",
       "\n",
       "    .dataframe thead th {\n",
       "        text-align: right;\n",
       "    }\n",
       "</style>\n",
       "<table border=\"1\" class=\"dataframe\">\n",
       "  <thead>\n",
       "    <tr style=\"text-align: right;\">\n",
       "      <th></th>\n",
       "      <th></th>\n",
       "      <th>Записей</th>\n",
       "      <th>Уникальных</th>\n",
       "      <th>Дублей</th>\n",
       "      <th>NaN</th>\n",
       "      <th>не NaN</th>\n",
       "      <th>Тип</th>\n",
       "    </tr>\n",
       "  </thead>\n",
       "  <tbody>\n",
       "    <tr>\n",
       "      <th>0</th>\n",
       "      <td>Сведения о \"df_checks\"</td>\n",
       "      <td>541</td>\n",
       "      <td></td>\n",
       "      <td></td>\n",
       "      <td></td>\n",
       "      <td></td>\n",
       "      <td></td>\n",
       "    </tr>\n",
       "    <tr>\n",
       "      <th>1</th>\n",
       "      <td>Колонка \"\"student_id\"\"</td>\n",
       "      <td>541</td>\n",
       "      <td>541</td>\n",
       "      <td>0</td>\n",
       "      <td>0</td>\n",
       "      <td>541</td>\n",
       "      <td>int64</td>\n",
       "    </tr>\n",
       "    <tr>\n",
       "      <th>2</th>\n",
       "      <td>Колонка \"\"rev\"\"</td>\n",
       "      <td>541</td>\n",
       "      <td>39</td>\n",
       "      <td>502</td>\n",
       "      <td>0</td>\n",
       "      <td>541</td>\n",
       "      <td>float64</td>\n",
       "    </tr>\n",
       "  </tbody>\n",
       "</table>\n",
       "</div>"
      ],
      "text/plain": [
       "                           Записей Уникальных Дублей NaN не NaN      Тип\n",
       "0  Сведения о \"df_checks\"      541                                      \n",
       "1  Колонка \"\"student_id\"\"      541        541      0   0    541    int64\n",
       "2         Колонка \"\"rev\"\"      541         39    502   0    541  float64"
      ]
     },
     "execution_count": 48,
     "metadata": {},
     "output_type": "execute_result"
    }
   ],
   "source": [
    "check_df_values(df_checks, 'df_checks')"
   ]
  },
  {
   "cell_type": "code",
   "execution_count": 49,
   "metadata": {},
   "outputs": [
    {
     "data": {
      "text/html": [
       "<div>\n",
       "<style scoped>\n",
       "    .dataframe tbody tr th:only-of-type {\n",
       "        vertical-align: middle;\n",
       "    }\n",
       "\n",
       "    .dataframe tbody tr th {\n",
       "        vertical-align: top;\n",
       "    }\n",
       "\n",
       "    .dataframe thead th {\n",
       "        text-align: right;\n",
       "    }\n",
       "</style>\n",
       "<table border=\"1\" class=\"dataframe\">\n",
       "  <thead>\n",
       "    <tr style=\"text-align: right;\">\n",
       "      <th></th>\n",
       "      <th>\"student_id\"</th>\n",
       "    </tr>\n",
       "  </thead>\n",
       "  <tbody>\n",
       "    <tr>\n",
       "      <th>0</th>\n",
       "      <td>581585</td>\n",
       "    </tr>\n",
       "    <tr>\n",
       "      <th>1</th>\n",
       "      <td>5723133</td>\n",
       "    </tr>\n",
       "    <tr>\n",
       "      <th>2</th>\n",
       "      <td>3276743</td>\n",
       "    </tr>\n",
       "    <tr>\n",
       "      <th>3</th>\n",
       "      <td>4238589</td>\n",
       "    </tr>\n",
       "    <tr>\n",
       "      <th>4</th>\n",
       "      <td>4475369</td>\n",
       "    </tr>\n",
       "  </tbody>\n",
       "</table>\n",
       "</div>"
      ],
      "text/plain": [
       "   \"student_id\"\n",
       "0        581585\n",
       "1       5723133\n",
       "2       3276743\n",
       "3       4238589\n",
       "4       4475369"
      ]
     },
     "execution_count": 49,
     "metadata": {},
     "output_type": "execute_result"
    }
   ],
   "source": [
    "df_active_studs.head()"
   ]
  },
  {
   "cell_type": "code",
   "execution_count": 50,
   "metadata": {},
   "outputs": [
    {
     "data": {
      "text/html": [
       "<div>\n",
       "<style scoped>\n",
       "    .dataframe tbody tr th:only-of-type {\n",
       "        vertical-align: middle;\n",
       "    }\n",
       "\n",
       "    .dataframe tbody tr th {\n",
       "        vertical-align: top;\n",
       "    }\n",
       "\n",
       "    .dataframe thead th {\n",
       "        text-align: right;\n",
       "    }\n",
       "</style>\n",
       "<table border=\"1\" class=\"dataframe\">\n",
       "  <thead>\n",
       "    <tr style=\"text-align: right;\">\n",
       "      <th></th>\n",
       "      <th></th>\n",
       "      <th>Записей</th>\n",
       "      <th>Уникальных</th>\n",
       "      <th>Дублей</th>\n",
       "      <th>NaN</th>\n",
       "      <th>не NaN</th>\n",
       "      <th>Тип</th>\n",
       "    </tr>\n",
       "  </thead>\n",
       "  <tbody>\n",
       "    <tr>\n",
       "      <th>0</th>\n",
       "      <td>Сведения о \"df_active_studs\"</td>\n",
       "      <td>8341</td>\n",
       "      <td></td>\n",
       "      <td></td>\n",
       "      <td></td>\n",
       "      <td></td>\n",
       "      <td></td>\n",
       "    </tr>\n",
       "    <tr>\n",
       "      <th>1</th>\n",
       "      <td>Колонка \"\"student_id\"\"</td>\n",
       "      <td>8341</td>\n",
       "      <td>8341</td>\n",
       "      <td>0</td>\n",
       "      <td>0</td>\n",
       "      <td>8341</td>\n",
       "      <td>int64</td>\n",
       "    </tr>\n",
       "  </tbody>\n",
       "</table>\n",
       "</div>"
      ],
      "text/plain": [
       "                                 Записей Уникальных Дублей NaN не NaN    Тип\n",
       "0  Сведения о \"df_active_studs\"     8341                                    \n",
       "1        Колонка \"\"student_id\"\"     8341       8341      0   0   8341  int64"
      ]
     },
     "execution_count": 50,
     "metadata": {},
     "output_type": "execute_result"
    }
   ],
   "source": [
    "check_df_values(df_active_studs, 'df_active_studs')"
   ]
  },
  {
   "cell_type": "code",
   "execution_count": 51,
   "metadata": {},
   "outputs": [],
   "source": [
    "############"
   ]
  },
  {
   "cell_type": "markdown",
   "metadata": {},
   "source": [
    "Для удобства дальнейшей работы смержим все датасеты в один "
   ]
  },
  {
   "cell_type": "code",
   "execution_count": 75,
   "metadata": {},
   "outputs": [],
   "source": [
    "df_active_studs = df_active_students.rename(columns={'\"student_id\"': 'id'})\n",
    "df_checks          = df_checks.rename(columns=({'\"student_id\"': 'id','\"rev\"': 'revenue'}))"
   ]
  },
  {
   "cell_type": "code",
   "execution_count": 76,
   "metadata": {},
   "outputs": [
    {
     "data": {
      "text/html": [
       "<div>\n",
       "<style scoped>\n",
       "    .dataframe tbody tr th:only-of-type {\n",
       "        vertical-align: middle;\n",
       "    }\n",
       "\n",
       "    .dataframe tbody tr th {\n",
       "        vertical-align: top;\n",
       "    }\n",
       "\n",
       "    .dataframe thead th {\n",
       "        text-align: right;\n",
       "    }\n",
       "</style>\n",
       "<table border=\"1\" class=\"dataframe\">\n",
       "  <thead>\n",
       "    <tr style=\"text-align: right;\">\n",
       "      <th></th>\n",
       "      <th>id</th>\n",
       "      <th>revenue</th>\n",
       "    </tr>\n",
       "  </thead>\n",
       "  <tbody>\n",
       "    <tr>\n",
       "      <th>0</th>\n",
       "      <td>1627</td>\n",
       "      <td>990.0</td>\n",
       "    </tr>\n",
       "    <tr>\n",
       "      <th>1</th>\n",
       "      <td>3185</td>\n",
       "      <td>690.0</td>\n",
       "    </tr>\n",
       "    <tr>\n",
       "      <th>2</th>\n",
       "      <td>25973</td>\n",
       "      <td>690.0</td>\n",
       "    </tr>\n",
       "    <tr>\n",
       "      <th>3</th>\n",
       "      <td>26280</td>\n",
       "      <td>690.0</td>\n",
       "    </tr>\n",
       "    <tr>\n",
       "      <th>4</th>\n",
       "      <td>100300</td>\n",
       "      <td>990.0</td>\n",
       "    </tr>\n",
       "  </tbody>\n",
       "</table>\n",
       "</div>"
      ],
      "text/plain": [
       "       id  revenue\n",
       "0    1627    990.0\n",
       "1    3185    690.0\n",
       "2   25973    690.0\n",
       "3   26280    690.0\n",
       "4  100300    990.0"
      ]
     },
     "execution_count": 76,
     "metadata": {},
     "output_type": "execute_result"
    }
   ],
   "source": [
    "df_checks.head()"
   ]
  },
  {
   "cell_type": "code",
   "execution_count": 77,
   "metadata": {},
   "outputs": [
    {
     "data": {
      "text/plain": [
       "id    int64\n",
       "dtype: object"
      ]
     },
     "execution_count": 77,
     "metadata": {},
     "output_type": "execute_result"
    }
   ],
   "source": [
    "df_active_studs.dtypes"
   ]
  },
  {
   "cell_type": "code",
   "execution_count": 78,
   "metadata": {},
   "outputs": [],
   "source": [
    "#добавляем дополнительные колонки\n",
    "df_groups_add['added_later'] = True\n",
    "df_active_studs['active_studs'] = True\n",
    "\n",
    "#объединяем таблицы в одну общую\n",
    "df_merged = df_groups.merge(df_groups_add, how='outer', on=['id', 'grp'])\n",
    "df_merged = df_merged.merge(df_active_studs, how='outer', on=['id'])\n",
    "df_merged = df_merged.merge(df_checks, how='outer', on=['id'])"
   ]
  },
  {
   "cell_type": "code",
   "execution_count": 79,
   "metadata": {},
   "outputs": [
    {
     "data": {
      "text/html": [
       "<div>\n",
       "<style scoped>\n",
       "    .dataframe tbody tr th:only-of-type {\n",
       "        vertical-align: middle;\n",
       "    }\n",
       "\n",
       "    .dataframe tbody tr th {\n",
       "        vertical-align: top;\n",
       "    }\n",
       "\n",
       "    .dataframe thead th {\n",
       "        text-align: right;\n",
       "    }\n",
       "</style>\n",
       "<table border=\"1\" class=\"dataframe\">\n",
       "  <thead>\n",
       "    <tr style=\"text-align: right;\">\n",
       "      <th></th>\n",
       "      <th>id</th>\n",
       "      <th>grp</th>\n",
       "      <th>added_later</th>\n",
       "      <th>active_studs</th>\n",
       "      <th>revenue</th>\n",
       "    </tr>\n",
       "  </thead>\n",
       "  <tbody>\n",
       "    <tr>\n",
       "      <th>0</th>\n",
       "      <td>1489</td>\n",
       "      <td>B</td>\n",
       "      <td>NaN</td>\n",
       "      <td>NaN</td>\n",
       "      <td>NaN</td>\n",
       "    </tr>\n",
       "    <tr>\n",
       "      <th>1</th>\n",
       "      <td>1627</td>\n",
       "      <td>A</td>\n",
       "      <td>NaN</td>\n",
       "      <td>True</td>\n",
       "      <td>990.0</td>\n",
       "    </tr>\n",
       "    <tr>\n",
       "      <th>2</th>\n",
       "      <td>1768</td>\n",
       "      <td>B</td>\n",
       "      <td>NaN</td>\n",
       "      <td>NaN</td>\n",
       "      <td>NaN</td>\n",
       "    </tr>\n",
       "    <tr>\n",
       "      <th>3</th>\n",
       "      <td>1783</td>\n",
       "      <td>B</td>\n",
       "      <td>NaN</td>\n",
       "      <td>NaN</td>\n",
       "      <td>NaN</td>\n",
       "    </tr>\n",
       "    <tr>\n",
       "      <th>4</th>\n",
       "      <td>1794</td>\n",
       "      <td>A</td>\n",
       "      <td>NaN</td>\n",
       "      <td>NaN</td>\n",
       "      <td>NaN</td>\n",
       "    </tr>\n",
       "  </tbody>\n",
       "</table>\n",
       "</div>"
      ],
      "text/plain": [
       "     id grp added_later active_studs  revenue\n",
       "0  1489   B         NaN          NaN      NaN\n",
       "1  1627   A         NaN         True    990.0\n",
       "2  1768   B         NaN          NaN      NaN\n",
       "3  1783   B         NaN          NaN      NaN\n",
       "4  1794   A         NaN          NaN      NaN"
      ]
     },
     "execution_count": 79,
     "metadata": {},
     "output_type": "execute_result"
    }
   ],
   "source": [
    "df_merged.head()"
   ]
  },
  {
   "cell_type": "code",
   "execution_count": null,
   "metadata": {},
   "outputs": [],
   "source": []
  },
  {
   "cell_type": "code",
   "execution_count": null,
   "metadata": {},
   "outputs": [],
   "source": []
  },
  {
   "cell_type": "code",
   "execution_count": 80,
   "metadata": {},
   "outputs": [],
   "source": [
    "#Заполняем NaN значения \n",
    "\n",
    "df_merged['added_later'] = df_merged.added_later.fillna(False)\n",
    "df_merged['active_studs'] = df_merged.active_studs.fillna(False)\n",
    "df_merged['grp'] = df_merged.grp.astype('string')"
   ]
  },
  {
   "cell_type": "code",
   "execution_count": 81,
   "metadata": {},
   "outputs": [
    {
     "data": {
      "text/html": [
       "<div>\n",
       "<style scoped>\n",
       "    .dataframe tbody tr th:only-of-type {\n",
       "        vertical-align: middle;\n",
       "    }\n",
       "\n",
       "    .dataframe tbody tr th {\n",
       "        vertical-align: top;\n",
       "    }\n",
       "\n",
       "    .dataframe thead th {\n",
       "        text-align: right;\n",
       "    }\n",
       "</style>\n",
       "<table border=\"1\" class=\"dataframe\">\n",
       "  <thead>\n",
       "    <tr style=\"text-align: right;\">\n",
       "      <th></th>\n",
       "      <th>id</th>\n",
       "      <th>grp</th>\n",
       "      <th>added_later</th>\n",
       "      <th>active_studs</th>\n",
       "      <th>revenue</th>\n",
       "    </tr>\n",
       "  </thead>\n",
       "  <tbody>\n",
       "    <tr>\n",
       "      <th>0</th>\n",
       "      <td>1489</td>\n",
       "      <td>B</td>\n",
       "      <td>False</td>\n",
       "      <td>False</td>\n",
       "      <td>NaN</td>\n",
       "    </tr>\n",
       "    <tr>\n",
       "      <th>1</th>\n",
       "      <td>1627</td>\n",
       "      <td>A</td>\n",
       "      <td>False</td>\n",
       "      <td>True</td>\n",
       "      <td>990.0</td>\n",
       "    </tr>\n",
       "    <tr>\n",
       "      <th>2</th>\n",
       "      <td>1768</td>\n",
       "      <td>B</td>\n",
       "      <td>False</td>\n",
       "      <td>False</td>\n",
       "      <td>NaN</td>\n",
       "    </tr>\n",
       "    <tr>\n",
       "      <th>3</th>\n",
       "      <td>1783</td>\n",
       "      <td>B</td>\n",
       "      <td>False</td>\n",
       "      <td>False</td>\n",
       "      <td>NaN</td>\n",
       "    </tr>\n",
       "    <tr>\n",
       "      <th>4</th>\n",
       "      <td>1794</td>\n",
       "      <td>A</td>\n",
       "      <td>False</td>\n",
       "      <td>False</td>\n",
       "      <td>NaN</td>\n",
       "    </tr>\n",
       "  </tbody>\n",
       "</table>\n",
       "</div>"
      ],
      "text/plain": [
       "     id grp  added_later  active_studs  revenue\n",
       "0  1489   B        False         False      NaN\n",
       "1  1627   A        False          True    990.0\n",
       "2  1768   B        False         False      NaN\n",
       "3  1783   B        False         False      NaN\n",
       "4  1794   A        False         False      NaN"
      ]
     },
     "execution_count": 81,
     "metadata": {},
     "output_type": "execute_result"
    }
   ],
   "source": [
    "df_merged.head()"
   ]
  },
  {
   "cell_type": "markdown",
   "metadata": {},
   "source": [
    "Колонку rev заполнять значениями по умолчанию неразумно, т.к. если не нет оплат, то мы не можем присвоить ноль, иначе поплывет средний чек."
   ]
  },
  {
   "cell_type": "markdown",
   "metadata": {},
   "source": [
    "<hr>\n",
    "<b>Проверим объединенную таблицу на корректность</b>"
   ]
  },
  {
   "cell_type": "code",
   "execution_count": 82,
   "metadata": {},
   "outputs": [
    {
     "data": {
      "text/html": [
       "<div>\n",
       "<style scoped>\n",
       "    .dataframe tbody tr th:only-of-type {\n",
       "        vertical-align: middle;\n",
       "    }\n",
       "\n",
       "    .dataframe tbody tr th {\n",
       "        vertical-align: top;\n",
       "    }\n",
       "\n",
       "    .dataframe thead th {\n",
       "        text-align: right;\n",
       "    }\n",
       "</style>\n",
       "<table border=\"1\" class=\"dataframe\">\n",
       "  <thead>\n",
       "    <tr style=\"text-align: right;\">\n",
       "      <th></th>\n",
       "      <th></th>\n",
       "      <th>Записей</th>\n",
       "      <th>Уникальных</th>\n",
       "      <th>Дублей</th>\n",
       "      <th>NaN</th>\n",
       "      <th>не NaN</th>\n",
       "      <th>Тип</th>\n",
       "    </tr>\n",
       "  </thead>\n",
       "  <tbody>\n",
       "    <tr>\n",
       "      <th>0</th>\n",
       "      <td>Сведения о \"df_AB_test\"</td>\n",
       "      <td>74576</td>\n",
       "      <td></td>\n",
       "      <td></td>\n",
       "      <td></td>\n",
       "      <td></td>\n",
       "      <td></td>\n",
       "    </tr>\n",
       "    <tr>\n",
       "      <th>1</th>\n",
       "      <td>Колонка \"id\"</td>\n",
       "      <td>74576</td>\n",
       "      <td>74576</td>\n",
       "      <td>0</td>\n",
       "      <td>0</td>\n",
       "      <td>74576</td>\n",
       "      <td>int64</td>\n",
       "    </tr>\n",
       "    <tr>\n",
       "      <th>2</th>\n",
       "      <td>Колонка \"grp\"</td>\n",
       "      <td>74576</td>\n",
       "      <td>2</td>\n",
       "      <td>74574</td>\n",
       "      <td>0</td>\n",
       "      <td>74576</td>\n",
       "      <td>string</td>\n",
       "    </tr>\n",
       "    <tr>\n",
       "      <th>3</th>\n",
       "      <td>Колонка \"added_later\"</td>\n",
       "      <td>74576</td>\n",
       "      <td>2</td>\n",
       "      <td>74574</td>\n",
       "      <td>0</td>\n",
       "      <td>74576</td>\n",
       "      <td>bool</td>\n",
       "    </tr>\n",
       "    <tr>\n",
       "      <th>4</th>\n",
       "      <td>Колонка \"active_studs\"</td>\n",
       "      <td>74576</td>\n",
       "      <td>2</td>\n",
       "      <td>74574</td>\n",
       "      <td>0</td>\n",
       "      <td>74576</td>\n",
       "      <td>bool</td>\n",
       "    </tr>\n",
       "    <tr>\n",
       "      <th>5</th>\n",
       "      <td>Колонка \"revenue\"</td>\n",
       "      <td>74576</td>\n",
       "      <td>39</td>\n",
       "      <td>74536</td>\n",
       "      <td>74035</td>\n",
       "      <td>541</td>\n",
       "      <td>float64</td>\n",
       "    </tr>\n",
       "  </tbody>\n",
       "</table>\n",
       "</div>"
      ],
      "text/plain": [
       "                            Записей Уникальных Дублей    NaN не NaN      Тип\n",
       "0  Сведения о \"df_AB_test\"    74576                                         \n",
       "1             Колонка \"id\"    74576      74576      0      0  74576    int64\n",
       "2            Колонка \"grp\"    74576          2  74574      0  74576   string\n",
       "3    Колонка \"added_later\"    74576          2  74574      0  74576     bool\n",
       "4   Колонка \"active_studs\"    74576          2  74574      0  74576     bool\n",
       "5        Колонка \"revenue\"    74576         39  74536  74035    541  float64"
      ]
     },
     "execution_count": 82,
     "metadata": {},
     "output_type": "execute_result"
    }
   ],
   "source": [
    "check_df_values(df_merged, 'df_AB_test')"
   ]
  },
  {
   "cell_type": "code",
   "execution_count": 83,
   "metadata": {},
   "outputs": [
    {
     "data": {
      "text/plain": [
       "array([False,  True])"
      ]
     },
     "execution_count": 83,
     "metadata": {},
     "output_type": "execute_result"
    }
   ],
   "source": [
    "df_merged.added_later.unique()"
   ]
  },
  {
   "cell_type": "code",
   "execution_count": 84,
   "metadata": {},
   "outputs": [
    {
     "data": {
      "text/plain": [
       "<StringArray>\n",
       "['B', 'A']\n",
       "Length: 2, dtype: string"
      ]
     },
     "execution_count": 84,
     "metadata": {},
     "output_type": "execute_result"
    }
   ],
   "source": [
    "df_merged.grp.unique()"
   ]
  },
  {
   "cell_type": "code",
   "execution_count": 85,
   "metadata": {},
   "outputs": [
    {
     "data": {
      "text/plain": [
       "array([False,  True])"
      ]
     },
     "execution_count": 85,
     "metadata": {},
     "output_type": "execute_result"
    }
   ],
   "source": [
    "df_merged.active_studs.unique()"
   ]
  },
  {
   "cell_type": "code",
   "execution_count": 86,
   "metadata": {},
   "outputs": [
    {
     "data": {
      "text/html": [
       "<div>\n",
       "<style scoped>\n",
       "    .dataframe tbody tr th:only-of-type {\n",
       "        vertical-align: middle;\n",
       "    }\n",
       "\n",
       "    .dataframe tbody tr th {\n",
       "        vertical-align: top;\n",
       "    }\n",
       "\n",
       "    .dataframe thead th {\n",
       "        text-align: right;\n",
       "    }\n",
       "</style>\n",
       "<table border=\"1\" class=\"dataframe\">\n",
       "  <thead>\n",
       "    <tr style=\"text-align: right;\">\n",
       "      <th></th>\n",
       "      <th>id</th>\n",
       "      <th>revenue</th>\n",
       "    </tr>\n",
       "  </thead>\n",
       "  <tbody>\n",
       "    <tr>\n",
       "      <th>count</th>\n",
       "      <td>7.457600e+04</td>\n",
       "      <td>541.000000</td>\n",
       "    </tr>\n",
       "    <tr>\n",
       "      <th>mean</th>\n",
       "      <td>2.165617e+06</td>\n",
       "      <td>1059.752317</td>\n",
       "    </tr>\n",
       "    <tr>\n",
       "      <th>std</th>\n",
       "      <td>2.786959e+06</td>\n",
       "      <td>762.712359</td>\n",
       "    </tr>\n",
       "    <tr>\n",
       "      <th>min</th>\n",
       "      <td>1.489000e+03</td>\n",
       "      <td>199.000000</td>\n",
       "    </tr>\n",
       "    <tr>\n",
       "      <th>25%</th>\n",
       "      <td>9.197188e+05</td>\n",
       "      <td>290.000000</td>\n",
       "    </tr>\n",
       "    <tr>\n",
       "      <th>50%</th>\n",
       "      <td>1.669752e+06</td>\n",
       "      <td>840.000000</td>\n",
       "    </tr>\n",
       "    <tr>\n",
       "      <th>75%</th>\n",
       "      <td>3.328121e+06</td>\n",
       "      <td>1900.000000</td>\n",
       "    </tr>\n",
       "    <tr>\n",
       "      <th>max</th>\n",
       "      <td>2.010677e+08</td>\n",
       "      <td>4650.000000</td>\n",
       "    </tr>\n",
       "  </tbody>\n",
       "</table>\n",
       "</div>"
      ],
      "text/plain": [
       "                 id      revenue\n",
       "count  7.457600e+04   541.000000\n",
       "mean   2.165617e+06  1059.752317\n",
       "std    2.786959e+06   762.712359\n",
       "min    1.489000e+03   199.000000\n",
       "25%    9.197188e+05   290.000000\n",
       "50%    1.669752e+06   840.000000\n",
       "75%    3.328121e+06  1900.000000\n",
       "max    2.010677e+08  4650.000000"
      ]
     },
     "execution_count": 86,
     "metadata": {},
     "output_type": "execute_result"
    }
   ],
   "source": [
    "df_merged.describe()"
   ]
  },
  {
   "cell_type": "code",
   "execution_count": 87,
   "metadata": {},
   "outputs": [
    {
     "data": {
      "text/plain": [
       "B    120\n",
       "A     29\n",
       "Name: grp, dtype: Int64"
      ]
     },
     "execution_count": 87,
     "metadata": {},
     "output_type": "execute_result"
    }
   ],
   "source": [
    "# проверим есть пользователи, которые совершили оплаты в день эксперимента но не заходили на платформу\n",
    "df_merged.query('active_studs == False and revenue.notna()').grp.value_counts()"
   ]
  },
  {
   "cell_type": "code",
   "execution_count": 89,
   "metadata": {},
   "outputs": [
    {
     "data": {
      "text/plain": [
       "B    1\n",
       "Name: grp, dtype: Int64"
      ]
     },
     "execution_count": 89,
     "metadata": {},
     "output_type": "execute_result"
    }
   ],
   "source": [
    "#проверим есть ли пользователи, которые были добавлены спустя два дня и проводили оплату\n",
    "df_merged.query('added_later == True and revenue.notna()').grp.value_counts()"
   ]
  },
  {
   "cell_type": "code",
   "execution_count": 90,
   "metadata": {},
   "outputs": [
    {
     "data": {
      "text/html": [
       "<div>\n",
       "<style scoped>\n",
       "    .dataframe tbody tr th:only-of-type {\n",
       "        vertical-align: middle;\n",
       "    }\n",
       "\n",
       "    .dataframe tbody tr th {\n",
       "        vertical-align: top;\n",
       "    }\n",
       "\n",
       "    .dataframe thead th {\n",
       "        text-align: right;\n",
       "    }\n",
       "</style>\n",
       "<table border=\"1\" class=\"dataframe\">\n",
       "  <thead>\n",
       "    <tr style=\"text-align: right;\">\n",
       "      <th></th>\n",
       "      <th>id</th>\n",
       "      <th>grp</th>\n",
       "      <th>added_later</th>\n",
       "      <th>active_studs</th>\n",
       "      <th>revenue</th>\n",
       "    </tr>\n",
       "  </thead>\n",
       "  <tbody>\n",
       "    <tr>\n",
       "      <th>74539</th>\n",
       "      <td>5740903</td>\n",
       "      <td>B</td>\n",
       "      <td>True</td>\n",
       "      <td>True</td>\n",
       "      <td>1900.0</td>\n",
       "    </tr>\n",
       "  </tbody>\n",
       "</table>\n",
       "</div>"
      ],
      "text/plain": [
       "            id grp  added_later  active_studs  revenue\n",
       "74539  5740903   B         True          True   1900.0"
      ]
     },
     "execution_count": 90,
     "metadata": {},
     "output_type": "execute_result"
    }
   ],
   "source": [
    "# Это пользователь 74539\n",
    "df_merged.query('added_later == True and revenue.notna()')"
   ]
  },
  {
   "cell_type": "markdown",
   "metadata": {},
   "source": [
    "<hr>\n",
    "<H4>Вывод о содержимом таблиц</H4>"
   ]
  },
  {
   "cell_type": "markdown",
   "metadata": {},
   "source": [
    "<ul>\n",
    "    <li>В рамках проведеня АБ-теста меня интересуют только те пользователи, которые имеются в таблицах active_studs.csv и checks.csv. Это связано с тем, что мы не можем проверить гипотезу эксперимента на пользователях, которые были отобраны для эксперимента, но по сути так в нем и не поучаствовали, т.е. не все пользователи из таблиц groups.csv и groups_add.csv заходили в приложение и тем более, что-то могли оплатить. Я допускаю тот факт, что пользователи, которые не заходили в приложение, но совершили оплату в дни эксперимента, это такие пользователи, у которых настроен автоплатеж или что-то подобное. Но так как мы не знаем на чем основана новая или старая механики оплат, то просто принимаем этот факт как данность и включаем этих пользователей в АБ-тест.</li>\n",
    "    <li>Следовательно, для проведения эксперимента было выделено 74576 пользователей, из них 8341 заходил в приложение, 541 совершил оплату.</li>\n",
    "</ul>\n",
    "<hr>\n",
    "\n",
    "<b>Отфильтруем пользователей для АБ-теста</b>\n",
    "<ul>\n",
    "    <li>Которые заходили в приложение во время эксперимента.</li>\n",
    "    <li>Которые совершали оплату во время эксперимента.</li>\n",
    "</ul>"
   ]
  },
  {
   "cell_type": "code",
   "execution_count": 91,
   "metadata": {},
   "outputs": [
    {
     "data": {
      "text/html": [
       "<div>\n",
       "<style scoped>\n",
       "    .dataframe tbody tr th:only-of-type {\n",
       "        vertical-align: middle;\n",
       "    }\n",
       "\n",
       "    .dataframe tbody tr th {\n",
       "        vertical-align: top;\n",
       "    }\n",
       "\n",
       "    .dataframe thead th {\n",
       "        text-align: right;\n",
       "    }\n",
       "</style>\n",
       "<table border=\"1\" class=\"dataframe\">\n",
       "  <thead>\n",
       "    <tr style=\"text-align: right;\">\n",
       "      <th></th>\n",
       "      <th>id</th>\n",
       "      <th>grp</th>\n",
       "      <th>added_later</th>\n",
       "      <th>active_studs</th>\n",
       "      <th>revenue</th>\n",
       "    </tr>\n",
       "  </thead>\n",
       "  <tbody>\n",
       "    <tr>\n",
       "      <th>1</th>\n",
       "      <td>1627</td>\n",
       "      <td>A</td>\n",
       "      <td>False</td>\n",
       "      <td>True</td>\n",
       "      <td>990.0</td>\n",
       "    </tr>\n",
       "    <tr>\n",
       "      <th>10</th>\n",
       "      <td>2085</td>\n",
       "      <td>B</td>\n",
       "      <td>False</td>\n",
       "      <td>True</td>\n",
       "      <td>NaN</td>\n",
       "    </tr>\n",
       "    <tr>\n",
       "      <th>12</th>\n",
       "      <td>2215</td>\n",
       "      <td>B</td>\n",
       "      <td>False</td>\n",
       "      <td>True</td>\n",
       "      <td>NaN</td>\n",
       "    </tr>\n",
       "    <tr>\n",
       "      <th>39</th>\n",
       "      <td>3185</td>\n",
       "      <td>B</td>\n",
       "      <td>False</td>\n",
       "      <td>False</td>\n",
       "      <td>690.0</td>\n",
       "    </tr>\n",
       "    <tr>\n",
       "      <th>43</th>\n",
       "      <td>3391</td>\n",
       "      <td>A</td>\n",
       "      <td>False</td>\n",
       "      <td>True</td>\n",
       "      <td>NaN</td>\n",
       "    </tr>\n",
       "  </tbody>\n",
       "</table>\n",
       "</div>"
      ],
      "text/plain": [
       "      id grp  added_later  active_studs  revenue\n",
       "1   1627   A        False          True    990.0\n",
       "10  2085   B        False          True      NaN\n",
       "12  2215   B        False          True      NaN\n",
       "39  3185   B        False         False    690.0\n",
       "43  3391   A        False          True      NaN"
      ]
     },
     "execution_count": 91,
     "metadata": {},
     "output_type": "execute_result"
    }
   ],
   "source": [
    "df_AB_test = df_merged.query('active_studs == True or revenue.notna()')\n",
    "df_AB_test.head()"
   ]
  },
  {
   "cell_type": "code",
   "execution_count": null,
   "metadata": {},
   "outputs": [],
   "source": [
    "check_df_values(df_AB_test, 'df_AB_test')"
   ]
  },
  {
   "cell_type": "code",
   "execution_count": 92,
   "metadata": {},
   "outputs": [
    {
     "data": {
      "text/plain": [
       "<matplotlib.axes._subplots.AxesSubplot at 0x7f25fdcff8d0>"
      ]
     },
     "execution_count": 92,
     "metadata": {},
     "output_type": "execute_result"
    },
    {
     "data": {
      "image/png": "[encoded data removed]",
      "text/plain": [
       "<Figure size 720x432 with 1 Axes>"
      ]
     },
     "metadata": {},
     "output_type": "display_data"
    }
   ],
   "source": [
    "#посмотрим на распределение оплат\n",
    "sns.histplot(data=df_AB_test, x=\"revenue\", hue='grp', bins=39)"
   ]
  },
  {
   "cell_type": "code",
   "execution_count": 93,
   "metadata": {},
   "outputs": [
    {
     "data": {
      "text/plain": [
       "<matplotlib.axes._subplots.AxesSubplot at 0x7f25fdf370f0>"
      ]
     },
     "execution_count": 93,
     "metadata": {},
     "output_type": "execute_result"
    },
    {
     "data": {
      "image/png": "[encoded data removed]",
      "text/plain": [
       "<Figure size 720x432 with 1 Axes>"
      ]
     },
     "metadata": {},
     "output_type": "display_data"
    }
   ],
   "source": [
    "sns.boxplot(data=df_AB_test, x=\"revenue\", y=\"grp\")"
   ]
  },
  {
   "cell_type": "markdown",
   "metadata": {},
   "source": [
    "<p>Распределения оплат выглядят явно не равномерными, не унимодальными, имеют выбросы."
   ]
  },
  {
   "cell_type": "markdown",
   "metadata": {},
   "source": [
    "<b>Посмотрим на то, какие бизнес метрики мы можем извлечь из данных</b>"
   ]
  },
  {
   "cell_type": "code",
   "execution_count": 104,
   "metadata": {},
   "outputs": [
    {
     "data": {
      "text/html": [
       "<div>\n",
       "<style scoped>\n",
       "    .dataframe tbody tr th:only-of-type {\n",
       "        vertical-align: middle;\n",
       "    }\n",
       "\n",
       "    .dataframe tbody tr th {\n",
       "        vertical-align: top;\n",
       "    }\n",
       "\n",
       "    .dataframe thead th {\n",
       "        text-align: right;\n",
       "    }\n",
       "</style>\n",
       "<table border=\"1\" class=\"dataframe\">\n",
       "  <thead>\n",
       "    <tr style=\"text-align: right;\">\n",
       "      <th></th>\n",
       "      <th>users</th>\n",
       "      <th>clients</th>\n",
       "      <th>users_%</th>\n",
       "      <th>clients_%</th>\n",
       "      <th>CR_to_clients</th>\n",
       "      <th>mean_revenue</th>\n",
       "      <th>repeat_purchases</th>\n",
       "      <th>arppu</th>\n",
       "      <th>arpu</th>\n",
       "    </tr>\n",
       "  </thead>\n",
       "  <tbody>\n",
       "    <tr>\n",
       "      <th>A</th>\n",
       "      <td>1567</td>\n",
       "      <td>107</td>\n",
       "      <td>18.46</td>\n",
       "      <td>19.78</td>\n",
       "      <td>0.068283</td>\n",
       "      <td>860.710280</td>\n",
       "      <td>1.0</td>\n",
       "      <td>860.710280</td>\n",
       "      <td>58.772176</td>\n",
       "    </tr>\n",
       "    <tr>\n",
       "      <th>B</th>\n",
       "      <td>6923</td>\n",
       "      <td>434</td>\n",
       "      <td>81.54</td>\n",
       "      <td>80.22</td>\n",
       "      <td>0.062690</td>\n",
       "      <td>1108.824893</td>\n",
       "      <td>1.0</td>\n",
       "      <td>1108.824893</td>\n",
       "      <td>69.511773</td>\n",
       "    </tr>\n",
       "  </tbody>\n",
       "</table>\n",
       "</div>"
      ],
      "text/plain": [
       "   users  clients  users_%  clients_%  CR_to_clients  mean_revenue  \\\n",
       "A   1567      107    18.46      19.78       0.068283    860.710280   \n",
       "B   6923      434    81.54      80.22       0.062690   1108.824893   \n",
       "\n",
       "   repeat_purchases        arppu       arpu  \n",
       "A               1.0   860.710280  58.772176  \n",
       "B               1.0  1108.824893  69.511773  "
      ]
     },
     "execution_count": 104,
     "metadata": {},
     "output_type": "execute_result"
    }
   ],
   "source": [
    "metrics = pd.DataFrame()\n",
    "metrics['users'] = df_AB_test.groupby('grp').id.count()\n",
    "metrics['clients'] = df_AB_test.groupby('grp').revenue.count()\n",
    "metrics['users_%'] = round(df_AB_test.grp.value_counts(normalize=True)*100,2)\n",
    "metrics['clients_%'] = round(df_AB_test.groupby('grp').revenue.count() / df_AB_test.revenue.count()*100,2)\n",
    "metrics['CR_to_clients'] = df_AB_test.groupby('grp').revenue.count() / df_AB_test.groupby('grp').id.count()\n",
    "metrics['mean_revenue'] = df_AB_test.groupby('grp').revenue.mean()\n",
    "metrics['repeat_purchases'] = df_AB_test.groupby('grp').revenue.count() / df_AB_test.query('revenue.notna()').groupby('grp').revenue.count()\n",
    "metrics['arppu'] = metrics['repeat_purchases'] * df_AB_test.groupby('grp').revenue.mean()\n",
    "metrics['arpu'] = metrics['CR_to_clients']*metrics['arppu']\n",
    "metrics"
   ]
  },
  {
   "cell_type": "markdown",
   "metadata": {},
   "source": [
    "<H3>Замечания</H3>\n",
    "<ul>\n",
    "    <li>Группы поделены не равномерно между собой. У группы <i>B</i> явный перекос в бОльшую сторону по количеству пользователей. Мною принято решение, что при бутстрапировании я буду использовать количество записей в подвыборах в соответствии с количеством записей в группе А (1567), чтобы избежать сильных различий между распределениями. В таком случае, если различия между группами действительно имеются, то мы все равно это заметим.</li>\n",
    "    <li>Конверсия в покупателя у группы А выше, чем у группы Б. Не исключено, что причина в том, что группа А меньше по к-ву пользователей, чем группа Б.</li>\n",
    "    <li>Как видим, метрика ARPPU ожидаемо равна среднему чеку, т.к. на каждого платящего пользователя приходится по одной покупке (repeat_purchases = 1, что означает, что повторных покупок не было).</li>\n",
    "    <li>Для корректного проведения АБ-теста группы должны быть поделены поровну. В связи с этим будем использовать бутсрап.</li>\n",
    "    <li>Для теста остаются две метрики - это средний чек и ARPU. Проведем бутстрап тесты по этим метрикам и посмотрим на результаты.</li>\n",
    "    <li>Для корректного проведения теста по среднему чеку в бутстрапе мы будем игнорировать значения NaN. Для подсчета ARPU выделена отдельная функция, чтобы ARPU считалось по подвыборкам.</li>\n",
    "</ul>\n",
    "<p>"
   ]
  },
  {
   "cell_type": "code",
   "execution_count": null,
   "metadata": {},
   "outputs": [],
   "source": [
    "def bootstrap(\n",
    "    df_1, # ДФ первой выборки\n",
    "    df_2, # ДФ второй выборки\n",
    "    col_1, #название колонки первой выборки\n",
    "    col_2, #название колонки второй выборки\n",
    "    sample_count_1 = 0, #количество наблюдений для подвыборок\n",
    "    sample_count_2 = 0, #количество наблюдений для подвыборок\n",
    "    boot_it = 10000, # количество бутстрэп-подвыборок\n",
    "    statistic = 'mean', # интересующая нас статистика\n",
    "    bootstrap_conf_level = 0.95, # уровень значимости\n",
    "    replace = True, #параметр возвращения\n",
    "    max_len = True\n",
    "):\n",
    "    from scipy.stats import norm\n",
    "    \n",
    "    if sample_count_1 == 0:\n",
    "        sample_count_1 = len(df_1[col_1])\n",
    "    \n",
    "    if sample_count_2 == 0:\n",
    "        sample_count_2 = len(df_2[col_2])\n",
    "    if max_len:\n",
    "        boot_len = max([sample_count_1, sample_count_2])\n",
    "    else:\n",
    "        boot_len = min([sample_count_1, sample_count_2])\n",
    "    \n",
    "    boot_data = []\n",
    "    smpl_1_data = []\n",
    "    smpl_2_data = []\n",
    "    for i in tqdm(range(boot_it)): # извлекаем подвыборки\n",
    "        if statistic == 'arpu':\n",
    "            samples_1 = arpu(df_1.sample(boot_len, replace=replace))\n",
    "            samples_2 = arpu(df_2.sample(boot_len, replace=replace))            \n",
    "        else:\n",
    "            samples_1 = np.nanmean(df_1[col_1].sample(boot_len, replace=replace).values)\n",
    "            samples_2 = np.nanmean(df_2[col_2].sample(boot_len, replace=replace).values)\n",
    "        \n",
    "        \n",
    "        boot_data.append(samples_1-samples_2)\n",
    "        smpl_1_data.append(samples_1)\n",
    "        smpl_2_data.append(samples_2)\n",
    "        \n",
    "    pd_boot_data = pd.DataFrame(boot_data)\n",
    "        \n",
    "    left_quant = (1 - bootstrap_conf_level)/2\n",
    "    right_quant = 1 - (1 - bootstrap_conf_level) / 2\n",
    "    quants = pd_boot_data.quantile([left_quant, right_quant])\n",
    "        \n",
    "    p_1 = norm.cdf(\n",
    "        x = 0, \n",
    "        loc = np.nanmean(boot_data), \n",
    "        scale = np.nanstd(boot_data)\n",
    "    )\n",
    "    p_2 = norm.cdf(\n",
    "        x = 0, \n",
    "        loc = -np.nanmean(boot_data), \n",
    "        scale = np.nanstd(boot_data)\n",
    "    )\n",
    "    p_value = min(p_1, p_2) * 2\n",
    "        \n",
    "    # Визуализация\n",
    "    _, _, bars = plt.hist(pd_boot_data[0], bins = 50)\n",
    "    for bar in bars:\n",
    "        if bar.get_x() <= quants.iloc[0][0] or bar.get_x() >= quants.iloc[1][0]:\n",
    "            bar.set_facecolor('red')\n",
    "        else: \n",
    "            bar.set_facecolor('grey')\n",
    "            bar.set_edgecolor('black')\n",
    "    \n",
    "    plt.style.use('ggplot')\n",
    "    plt.vlines(quants,ymin=0,ymax=50,linestyle='--')\n",
    "    plt.xlabel('boot_data')\n",
    "    plt.ylabel('frequency')\n",
    "    plt.title(\"Histogram of boot_data\")\n",
    "    plt.show()\n",
    "    \n",
    "    print('pvalue = ', p_value)\n",
    "       \n",
    "    return {\"boot_data\" : boot_data, \n",
    "            \"quants\" : quants, \n",
    "            \"p_value\" : p_value,\n",
    "           \"smpl_1_data\" : smpl_1_data,\n",
    "           \"smpl_2_data\" : smpl_2_data}\n",
    "\n",
    "\n",
    "def arpu(df):\n",
    "    rep_pur = df.rev.count() / df.query('rev.notna()').rev.count()\n",
    "    arppu = rep_pur * df.rev.mean()\n",
    "    return (df.rev.count() / df.id.count())*arppu"
   ]
  },
  {
   "cell_type": "code",
   "execution_count": null,
   "metadata": {},
   "outputs": [],
   "source": [
    "#бутстрап по среднему чеку, max_len = False\n",
    "booted_data = bootstrap(df_1 = df_AB_test.query('grp == \"A\"'), col_1 = 'rev',\n",
    "                        df_2 = df_AB_test.query('grp == \"B\"'), col_2 = 'rev',\n",
    "                        boot_it = 5000,\n",
    "                        statistic = 'mean',\n",
    "                        max_len = False)"
   ]
  },
  {
   "cell_type": "markdown",
   "metadata": {},
   "source": [
    "<H4>Вывод по бутстрапу по среднему чеку</H4>\n",
    "<ul>\n",
    "    <li>На графике выше можно увидеть, что распределения разниц между средними лишь слегка пересекают отметку 0. Это означает, что очень малое количество наблюдений из двух выборок пересекаются между собой.</li>\n",
    "    <li>pvalue < уровня значимости 0.05. Это дает нам основания ОТВЕРГНУТЬ нулевую гипотезу.</li>\n",
    "    <li>Т.к. на вход мы подавали первым ДФ по группе А, то согласно заданным расчетам (группа А - группа Б) по группе А значения среднего чека менньше, чем в группе Б. Ниже приведен график распределения разниц между средними, чтобы убедиться в этом утверждении.</li>\n",
    "</ul>"
   ]
  },
  {
   "cell_type": "code",
   "execution_count": null,
   "metadata": {},
   "outputs": [],
   "source": [
    "sns.histplot(booted_data['smpl_1_data'], color='r')\n",
    "sns.histplot(booted_data['smpl_2_data'], color='b')"
   ]
  },
  {
   "cell_type": "code",
   "execution_count": null,
   "metadata": {},
   "outputs": [],
   "source": [
    "#бутстрап по arpu, max_len = False\n",
    "booted_data = bootstrap(df_1 = df_AB_test.query('grp == \"A\"'), col_1 = 'rev',\n",
    "                        df_2 = df_AB_test.query('grp == \"B\"'), col_2 = 'rev',\n",
    "                        boot_it = 5000,\n",
    "                        statistic = 'arpu',<H4>Вывод по бутстрапу по ARPU</H4>\n",
    "<ul>\n",
    "    <li>Как видим, при сравнении распределений ARPU pvalue превысил уровень значимости в 0.05, что не дает нам основания отвергнуть нулевую гипотезу. Вероятноть того, что среднее значение ARPU группы Б примет среднее значение ARPU группы А достаточно велика.</li>\n",
    "</ul>\n",
    "<p>Ниже приведен график распределения разниц ARPU\n",
    "                        max_len = False)"
   ]
  },
  {
   "cell_type": "markdown",
   "metadata": {},
   "source": [
    "<H4>Вывод по бутстрапу по ARPU</H4>\n",
    "<ul>\n",
    "    <li>Как видим, при сравнении распределений ARPU pvalue превысил уровень значимости в 0.05, что не дает нам основания отвергнуть нулевую гипотезу. Вероятноть того, что среднее значение ARPU группы Б примет среднее значение ARPU группы А достаточно велика.</li>\n",
    "</ul>\n",
    "<p>Ниже приведен график распределения разниц ARPU"
   ]
  },
  {
   "cell_type": "code",
   "execution_count": null,
   "metadata": {},
   "outputs": [],
   "source": [
    "sns.histplot(booted_data['smpl_1_data'], color='r')\n",
    "sns.histplot(booted_data['smpl_2_data'], color='b')"
   ]
  },
  {
   "cell_type": "markdown",
   "metadata": {},
   "source": [
    "<p>Но несмотря на то, что пересечения разниц ARPU расположены близко друг к другу, в большинстве наблюдений ARPU в группе Б все таки выше, чем в группе А.\n",
    "<p>Напомню, что максимальное количество наблюдений бралось по количеству записей в группе А. Напоследок проведем еще один бутстрап тест, но по макс. к-ву наблюдений, взятых по группе Б."
   ]
  },
  {
   "cell_type": "code",
   "execution_count": null,
   "metadata": {},
   "outputs": [],
   "source": [
    "#бутстрап по arpu, max_len = True\n",
    "booted_data = bootstrap(df_1 = df_AB_test.query('grp == \"A\"'), col_1 = 'rev',\n",
    "                        df_2 = df_AB_test.query('grp == \"B\"'), col_2 = 'rev',\n",
    "                        boot_it = 5000,\n",
    "                        statistic = 'arpu',\n",
    "                        max_len = True)"
   ]
  },
  {
   "cell_type": "code",
   "execution_count": null,
   "metadata": {},
   "outputs": [],
   "source": [
    "sns.histplot(booted_data['smpl_1_data'], color='r')\n",
    "sns.histplot(booted_data['smpl_2_data'], color='b')"
   ]
  },
  {
   "cell_type": "markdown",
   "metadata": {},
   "source": [
    "<p>Ввиду того, что в группе Б больше уникальных записей в сравнении с группой А, то, конечно, различия уже более явно прослеживаются. pvalue не превысил уровень значимости в 0.05"
   ]
  },
  {
   "cell_type": "markdown",
   "metadata": {},
   "source": [
    "<hr>\n",
    "<H3>ВЫВОД ПО ПРОВЕДЕНИЮ АБ-ТЕСТА</H3>\n",
    "\n",
    "<H4>Основные гипотезы</H4>\n",
    "<ul>\n",
    "    <li>H0 - Новая механика оплаты услуг на сайте в группе <i>B</i> не отличается от старой механики, оставленной в группе <i>A</i>.</li>\n",
    "    <li>H1 - Новая механика оплаты услуг на сайте в группе <i>B</i> имеет значимые различия в сравнении с механикой в группе <i>A</i>.</li>\n",
    "</ul>\n",
    "<hr>\n",
    "<ul>\n",
    "    <li>Бутстрап по среднему чеку показал pvalue < 0.05. Это <b>дает нам основания отвергнуть нулевую гипотезу.</b></li>\n",
    "    <li>Бутстрап по ARPU и к-ву наблюдений в подвыборках равному 1567 наблюдений показал pvalue > 0.05. Это <b>не дало нам основания отвергнуть</b> нулевую гипотезу.</li>\n",
    "    <li>Бутстрап по ARPU и к-ву наблюдений в подвыборках равному 6923 наблюдений показал pvalue < 0.05. <b>Есть основания отвергнуть</b> нулевую гипотезу.</li>\n",
    "    <li>Визуализируя разницу распределений метрик мы увидели явное различие между группами, где показатели распределений в группе Б лучше, чем в группе А во всех трех тестах.</li>  \n",
    "    <li><b>Согласно проведенным тестам имеет смысл применить новую механику оплаты услуг на всех пользователей. Но в идеале нужно было выделить больше пользователей для группы А, потому что из-за малого количества уникальных пользователей в группе А мы можем столкнуться с ситуацией, когда тесты показали значимые различия, а в генеральной совокупности эти различия могут поменяться местами или их попросту может не оказаться.</b></li>\n",
    "</ul>\n",
    "<hr>"
   ]
  },
  {
   "cell_type": "code",
   "execution_count": null,
   "metadata": {},
   "outputs": [],
   "source": [
    "#################"
   ]
  },
  {
   "cell_type": "markdown",
   "metadata": {},
   "source": [
    "<H2>Задание 2. SQL</H2>\n",
    "\n",
    "<H3>2.1.1. Условие</H3>\n",
    "<ul>\n",
    "    <li>Образовательные курсы состоят из различных уроков, каждый из которых состоит из нескольких маленьких заданий. Каждое такое маленькое задание называется \"горошиной\".</li>\n",
    "    <li>Назовём очень усердным учеником того пользователя, который хотя бы раз за текущий месяц <b>правильно</b> решил 20 горошин.</li>\n",
    "</ul>\n",
    "\n",
    "<H3>2.1.2. Задача</H3>\n",
    "<ul>\n",
    "    <li>Дана таблица default.peas.</li>\n",
    "    <li>Необходимо написать оптимальный запрос, который даст информацию о количестве очень усердных студентов.</li>\n",
    "    <li>NB! Под очень усердным студентом мы понимаем студента, который правильно решил 20 задач за текущий месяц.</li>\n",
    "</ul>"
   ]
  },
  {
   "cell_type": "code",
   "execution_count": null,
   "metadata": {},
   "outputs": [],
   "source": [
    "import pandahouse as ph"
   ]
  },
  {
   "cell_type": "code",
   "execution_count": null,
   "metadata": {},
   "outputs": [],
   "source": [
    "#задаем параметры соединения с базой данных\n",
    "connection = {'host': 'http://clickhouse.lab.karpov.courses',\n",
    "                      'database':'default',\n",
    "                      'user':'student', \n",
    "                      'password':'dpo_python_2020'\n",
    "                     }"
   ]
  },
  {
   "cell_type": "code",
   "execution_count": null,
   "metadata": {},
   "outputs": [],
   "source": [
    "#пишем запрос к базе данных\n",
    "query = '''\n",
    "        SELECT \n",
    "            COUNT(students_count) AS students_count\n",
    "        FROM\n",
    "            (SELECT\n",
    "              COUNT(st_id) AS students_count\n",
    "            FROM\n",
    "              default.peas\n",
    "            WHERE\n",
    "              toStartOfMonth(timest) = (SELECT toStartOfMonth(MAX(timest)) FROM default.peas)\n",
    "            GROUP BY st_id\n",
    "            HAVING SUM(correct) >= 20) AS t\n",
    "        '''\n",
    "#сохраняем резуьтат запроса в переменную\n",
    "students_count = ph.read_clickhouse(query=query, connection=connection)\n",
    "students_count"
   ]
  },
  {
   "cell_type": "markdown",
   "metadata": {},
   "source": [
    "<H3>Ответ</H3>\n",
    "<ul>\n",
    "    <li>136 студентов выполнили больше 20 горошин за последний месяц</li>\n",
    "</ul>\n",
    "<hr>"
   ]
  },
  {
   "cell_type": "markdown",
   "metadata": {},
   "source": [
    "<H3>2.2.1. Условие</H3>\n",
    "<ul>\n",
    "    <li>Образовательная платформа предлагает пройти студентам курсы по модели trial: студент может решить бесплатно лишь 30 горошин в день. Для неограниченного количества заданий в определенной дисциплине студенту необходимо приобрести полный доступ. Команда провела эксперимент, где был протестирован новый экран оплаты.\n",
    "</ul>   \n",
    "\n",
    "<H3>2.2.2 Задача</H3>\n",
    "\n",
    "<ul>\n",
    "    <li>Даны таблицы: default.peas, default.studs, default.final_project_check</li>\n",
    "</ul>\n",
    "\n",
    "<p>Необходимо в одном запросе выгрузить следующую информацию о группах пользователей:\n",
    "<ul>\n",
    "    <li>ARPU</li>\n",
    "    <li>ARPAU</li>\n",
    "    <li>CR в покупку</li>\n",
    "    <li>СR активного пользователя в покупку</li>\n",
    "    <li>CR пользователя из активности по математике (subject = ’math’) в покупку курса по математике</li>\n",
    "    <li>ARPU считается относительно всех пользователей, попавших в группы.</li>\n",
    "</ul>\n",
    "<p>Активным считается пользователь, за все время решивший больше 10 задач правильно в любых дисциплинах.\n",
    "<p>Активным по математике считается пользователь,"
   ]
  },
  {
   "cell_type": "code",
   "execution_count": null,
   "metadata": {},
   "outputs": [],
   "source": [
    "#пишем запрос к базе данных\n",
    "query = '''\n",
    "        SELECT\n",
    "            test_grp,\n",
    "            ROUND(SUM(is_client) / COUNT(DISTINCT user) * SUM(all_money) / SUM(is_client),2) AS ARPU,\n",
    "            ROUND(SUM(all_money) / SUM(is_active_user),2) AS ARPAU,\n",
    "            ROUND(SUM(is_client) / COUNT(DISTINCT user) * 100,2) AS CR,\n",
    "            ROUND(SUM(is_client * is_active_user) / SUM(is_active_user) * 100, 2) AS active_CR,\n",
    "            ROUND(SUM(is_math_client * is_math_active_user) / SUM(is_math_active_user) * 100,2) AS math_CR\n",
    "        FROM\n",
    "            (\n",
    "            SELECT \n",
    "                s.test_grp as test_grp,\n",
    "                s.st_id AS user,\n",
    "                CAST(COALESCE(SUM(all_money), 0) AS FLOAT) AS all_money,\n",
    "                CAST(COALESCE(MAX(is_client), 0) AS FLOAT) AS is_client,\n",
    "                CAST(COALESCE(MAX(is_math_client), 0) AS FLOAT) AS is_math_client,\n",
    "                CAST(COALESCE(MAX(is_active_user), 0) AS FLOAT) AS is_active_user, \n",
    "                CAST(COALESCE(MAX(is_math_active_user), 0) AS FLOAT) AS is_math_active_user\n",
    "            FROM default.studs AS s\n",
    "            LEFT JOIN (\n",
    "                SELECT \n",
    "                    st_id AS client,\n",
    "                    1 AS is_client,\n",
    "                    money AS all_money,\n",
    "                    CASE WHEN subject = 'Math' THEN\n",
    "                        1\n",
    "                    ELSE\n",
    "                        0\n",
    "                    END AS is_math_client\n",
    "                FROM default.final_project_check) AS c\n",
    "            ON s.st_id = c.client\n",
    "            LEFT JOIN (\n",
    "                SELECT\n",
    "                    st_id AS active_user,\n",
    "                    1 AS is_active_user\n",
    "                FROM default.peas\n",
    "                GROUP BY st_id\n",
    "                HAVING SUM(correct) > 10) AS active_users\n",
    "            ON s.st_id = active_users.active_user\n",
    "            LEFT JOIN (\n",
    "                SELECT\n",
    "                    st_id AS math_active_user,\n",
    "                    1 AS is_math_active_user\n",
    "                FROM default.peas\n",
    "                WHERE subject = 'Math'\n",
    "                GROUP BY st_id\n",
    "                HAVING SUM(correct) > 1) AS active_maths\n",
    "            ON s.st_id = active_maths.math_active_user\n",
    "            GROUP BY test_grp, user\n",
    "        ) AS t\n",
    "        GROUP BY test_grp\n",
    "        '''\n",
    "#сохраняем результат запроса в переменную\n",
    "stud_metrics = ph.read_clickhouse(query=query, connection=connection)\n",
    "stud_metrics"
   ]
  },
  {
   "cell_type": "code",
   "execution_count": null,
   "metadata": {},
   "outputs": [],
   "source": []
  },
  {
   "cell_type": "markdown",
   "metadata": {},
   "source": [
    "<H2>Задание 3. Python</H2>\n",
    "<H3>3.1 Задача</H3>\n",
    "<ol>\n",
    "<li>Реализуйте функцию, которая будет автоматически подгружать информацию из дополнительного файла groups_add.csv (заголовки могут отличаться) и на основании дополнительных параметров пересчитывать метрики.</li>\n",
    "<li>Реализуйте функцию, которая будет строить графики по получаемым метрикам.</li>\n",
    "</ol>"
   ]
  },
  {
   "cell_type": "code",
   "execution_count": 116,
   "metadata": {},
   "outputs": [],
   "source": [
    "def get_metrics(add = None, #ДатаФрейм\n",
    "                keys=['id', 'grp'], #ключи, по которым нужно объединить ДатаФрейм с основной таблицей\n",
    "                rename_columns = {'student_id':'id'} #колонки, которые нужно переименовать для корректного объединения\n",
    "               ):\n",
    "    import pandas as pd\n",
    "    groups          = get_dowland('https://disk.yandex.ru/d/UhyYx41rTt3clQ')\n",
    "    groups_add      = get_dowland('https://disk.yandex.ru/d/5Kxrz02m3IBUwQ') \n",
    "    active_studs = get_dowland('https://disk.yandex.ru/d/Tbs44Bm6H_FwFQ') \n",
    "    checks          = get_dowland('https://disk.yandex.ru/d/pH1q-VqcxXjsVA') \n",
    "    \n",
    "    #переименуем колонки для объединенения по ключам    \n",
    "    active_studs = df_active_students.rename(columns={'\"student_id\"': 'id'})\n",
    "    checks          = df_checks.rename(columns=({'\"student_id\"': 'id','\"rev\"': 'revenue'}))    \n",
    "    \n",
    "    \n",
    "    #добавляем дополнительную колонку\n",
    "    active_studs['active_studs'] = True\n",
    "\n",
    "    #объединяем таблицы в одну общую\n",
    "    merged = groups.merge(active_studs, how='outer', on=['id'])\n",
    "    merged = merged.merge(checks, how='outer', on=['id'])\n",
    "    \n",
    "    #если в параметр add была передана таблица\n",
    "    if add is not None:\n",
    "        add = add.rename(columns=rename_columns)\n",
    "        merged['added_later'] = True #добавляем дополнительную колонку\n",
    "        merged = merged.merge(add, how='outer') #присоединяем таблицу к общей\n",
    "        merged['added_later'] = merged.added_later.fillna(False) #Заполняем NaN значения значениями по умолчанию\n",
    "    \n",
    "    #Заполняем NaN значения значениями по умолчанию\n",
    "    merged['active_studs'] = merged.active_studs.fillna(False)\n",
    "\n",
    "    #присваиваем колонке grp тип string\n",
    "    merged['grp'] = merged.grp.astype('string')\n",
    "    \n",
    "    #отфильтровываем только активных пользователей и оплативших\n",
    "    #!!!раскомментировать при необходимости\n",
    "    #merged = merged.query('active_studs == True or rev.notna()')\n",
    "    \n",
    "    df_result = pd.DataFrame()\n",
    "    df_result['users'] = merged.groupby('grp').id.count()\n",
    "    df_result['clients'] = merged.groupby('grp').revenue.count()\n",
    "    df_result['users_%'] = round(merged.grp.value_counts(normalize=True)*100,2)\n",
    "    df_result['clients_%'] = round(merged.groupby('grp').revenue.count() / merged.revenue.count()*100,2)\n",
    "    df_result['CR_to_clients'] = merged.groupby('grp').revenue.count() / merged.groupby('grp').id.count()\n",
    "    df_result['mean_revenue'] = merged.groupby('grp').revenue.mean()\n",
    "    df_result['repeat_purchases'] = merged.groupby('grp').revenue.count() / merged.query('revenue.notna()').groupby('grp').revenue.count()\n",
    "    df_result['arppu'] = df_result['repeat_purchases'] * merged.groupby('grp').revenue.mean()\n",
    "    df_result['arpu'] = df_result['CR_to_clients']*df_result['arppu']\n",
    "    df_result = df_result.reset_index().rename(columns={'index' : 'grp'})\n",
    "    \n",
    "    return {\"metrics\" : df_result, \n",
    "            \"data_frame\" : merged}"
   ]
  },
  {
   "cell_type": "code",
   "execution_count": 117,
   "metadata": {},
   "outputs": [],
   "source": [
    "m = get_metrics()"
   ]
  },
  {
   "cell_type": "code",
   "execution_count": 118,
   "metadata": {},
   "outputs": [
    {
     "data": {
      "text/html": [
       "<div>\n",
       "<style scoped>\n",
       "    .dataframe tbody tr th:only-of-type {\n",
       "        vertical-align: middle;\n",
       "    }\n",
       "\n",
       "    .dataframe tbody tr th {\n",
       "        vertical-align: top;\n",
       "    }\n",
       "\n",
       "    .dataframe thead th {\n",
       "        text-align: right;\n",
       "    }\n",
       "</style>\n",
       "<table border=\"1\" class=\"dataframe\">\n",
       "  <thead>\n",
       "    <tr style=\"text-align: right;\">\n",
       "      <th></th>\n",
       "      <th>grp</th>\n",
       "      <th>users</th>\n",
       "      <th>clients</th>\n",
       "      <th>users_%</th>\n",
       "      <th>clients_%</th>\n",
       "      <th>CR_to_clients</th>\n",
       "      <th>mean_revenue</th>\n",
       "      <th>repeat_purchases</th>\n",
       "      <th>arppu</th>\n",
       "      <th>arpu</th>\n",
       "    </tr>\n",
       "  </thead>\n",
       "  <tbody>\n",
       "    <tr>\n",
       "      <th>0</th>\n",
       "      <td>A</td>\n",
       "      <td>14671</td>\n",
       "      <td>107</td>\n",
       "      <td>19.7</td>\n",
       "      <td>19.78</td>\n",
       "      <td>0.007293</td>\n",
       "      <td>860.710280</td>\n",
       "      <td>1.0</td>\n",
       "      <td>860.710280</td>\n",
       "      <td>6.277418</td>\n",
       "    </tr>\n",
       "    <tr>\n",
       "      <th>1</th>\n",
       "      <td>B</td>\n",
       "      <td>59813</td>\n",
       "      <td>433</td>\n",
       "      <td>80.3</td>\n",
       "      <td>80.04</td>\n",
       "      <td>0.007239</td>\n",
       "      <td>1106.997699</td>\n",
       "      <td>1.0</td>\n",
       "      <td>1106.997699</td>\n",
       "      <td>8.013810</td>\n",
       "    </tr>\n",
       "  </tbody>\n",
       "</table>\n",
       "</div>"
      ],
      "text/plain": [
       "  grp  users  clients  users_%  clients_%  CR_to_clients  mean_revenue  \\\n",
       "0   A  14671      107     19.7      19.78       0.007293    860.710280   \n",
       "1   B  59813      433     80.3      80.04       0.007239   1106.997699   \n",
       "\n",
       "   repeat_purchases        arppu      arpu  \n",
       "0               1.0   860.710280  6.277418  \n",
       "1               1.0  1106.997699  8.013810  "
      ]
     },
     "execution_count": 118,
     "metadata": {},
     "output_type": "execute_result"
    }
   ],
   "source": [
    "m['metrics']"
   ]
  },
  {
   "cell_type": "code",
   "execution_count": 119,
   "metadata": {},
   "outputs": [
    {
     "data": {
      "text/html": [
       "<div>\n",
       "<style scoped>\n",
       "    .dataframe tbody tr th:only-of-type {\n",
       "        vertical-align: middle;\n",
       "    }\n",
       "\n",
       "    .dataframe tbody tr th {\n",
       "        vertical-align: top;\n",
       "    }\n",
       "\n",
       "    .dataframe thead th {\n",
       "        text-align: right;\n",
       "    }\n",
       "</style>\n",
       "<table border=\"1\" class=\"dataframe\">\n",
       "  <thead>\n",
       "    <tr style=\"text-align: right;\">\n",
       "      <th></th>\n",
       "      <th>id</th>\n",
       "      <th>grp</th>\n",
       "      <th>active_studs</th>\n",
       "      <th>revenue</th>\n",
       "    </tr>\n",
       "  </thead>\n",
       "  <tbody>\n",
       "    <tr>\n",
       "      <th>0</th>\n",
       "      <td>1489</td>\n",
       "      <td>B</td>\n",
       "      <td>False</td>\n",
       "      <td>NaN</td>\n",
       "    </tr>\n",
       "    <tr>\n",
       "      <th>1</th>\n",
       "      <td>1627</td>\n",
       "      <td>A</td>\n",
       "      <td>True</td>\n",
       "      <td>990.0</td>\n",
       "    </tr>\n",
       "    <tr>\n",
       "      <th>2</th>\n",
       "      <td>1768</td>\n",
       "      <td>B</td>\n",
       "      <td>False</td>\n",
       "      <td>NaN</td>\n",
       "    </tr>\n",
       "    <tr>\n",
       "      <th>3</th>\n",
       "      <td>1783</td>\n",
       "      <td>B</td>\n",
       "      <td>False</td>\n",
       "      <td>NaN</td>\n",
       "    </tr>\n",
       "    <tr>\n",
       "      <th>4</th>\n",
       "      <td>1794</td>\n",
       "      <td>A</td>\n",
       "      <td>False</td>\n",
       "      <td>NaN</td>\n",
       "    </tr>\n",
       "    <tr>\n",
       "      <th>...</th>\n",
       "      <td>...</td>\n",
       "      <td>...</td>\n",
       "      <td>...</td>\n",
       "      <td>...</td>\n",
       "    </tr>\n",
       "    <tr>\n",
       "      <th>74492</th>\n",
       "      <td>5740903</td>\n",
       "      <td>&lt;NA&gt;</td>\n",
       "      <td>True</td>\n",
       "      <td>1900.0</td>\n",
       "    </tr>\n",
       "    <tr>\n",
       "      <th>74493</th>\n",
       "      <td>5760471</td>\n",
       "      <td>&lt;NA&gt;</td>\n",
       "      <td>True</td>\n",
       "      <td>NaN</td>\n",
       "    </tr>\n",
       "    <tr>\n",
       "      <th>74494</th>\n",
       "      <td>5728431</td>\n",
       "      <td>&lt;NA&gt;</td>\n",
       "      <td>True</td>\n",
       "      <td>NaN</td>\n",
       "    </tr>\n",
       "    <tr>\n",
       "      <th>74495</th>\n",
       "      <td>5723648</td>\n",
       "      <td>&lt;NA&gt;</td>\n",
       "      <td>True</td>\n",
       "      <td>NaN</td>\n",
       "    </tr>\n",
       "    <tr>\n",
       "      <th>74496</th>\n",
       "      <td>5870856</td>\n",
       "      <td>&lt;NA&gt;</td>\n",
       "      <td>True</td>\n",
       "      <td>NaN</td>\n",
       "    </tr>\n",
       "  </tbody>\n",
       "</table>\n",
       "<p>74497 rows × 4 columns</p>\n",
       "</div>"
      ],
      "text/plain": [
       "            id   grp  active_studs  revenue\n",
       "0         1489     B         False      NaN\n",
       "1         1627     A          True    990.0\n",
       "2         1768     B         False      NaN\n",
       "3         1783     B         False      NaN\n",
       "4         1794     A         False      NaN\n",
       "...        ...   ...           ...      ...\n",
       "74492  5740903  <NA>          True   1900.0\n",
       "74493  5760471  <NA>          True      NaN\n",
       "74494  5728431  <NA>          True      NaN\n",
       "74495  5723648  <NA>          True      NaN\n",
       "74496  5870856  <NA>          True      NaN\n",
       "\n",
       "[74497 rows x 4 columns]"
      ]
     },
     "execution_count": 119,
     "metadata": {},
     "output_type": "execute_result"
    }
   ],
   "source": [
    "m['data_frame']"
   ]
  },
  {
   "cell_type": "code",
   "execution_count": 120,
   "metadata": {},
   "outputs": [],
   "source": [
    "def barplot_metrics(df):\n",
    "    fig, axs = plt.subplots(2, 3, figsize=(20, 10))\n",
    "    fig.tight_layout(h_pad=5)\n",
    "    sns.barplot(y='users', x=\"grp\", data=df, ax=axs[0, 0]).set_title('Users')\n",
    "    sns.barplot(y='clients', x=\"grp\", data=df, ax=axs[0, 1]).set_title('Clients')\n",
    "    sns.barplot(y='CR_to_clients', x=\"grp\", data=df, ax=axs[0, 2]).set_title('CR_to_clients')\n",
    "    sns.barplot(y='mean_revenue', x=\"grp\", data=df, ax=axs[1, 0]).set_title('Mean_Revenue')\n",
    "    sns.barplot(y='arppu', x=\"grp\", data=df, ax=axs[1, 1]).set_title('ARPPU')\n",
    "    sns.barplot(y='arpu', x=\"grp\", data=df, ax=axs[1, 2]).set_title('ARPU')\n",
    "    \n",
    "    plt.show()"
   ]
  },
  {
   "cell_type": "code",
   "execution_count": 121,
   "metadata": {},
   "outputs": [
    {
     "data": {
      "image/png": "[encoded data removed]",
      "text/plain": [
       "<Figure size 1440x720 with 6 Axes>"
      ]
     },
     "metadata": {},
     "output_type": "display_data"
    }
   ],
   "source": [
    "barplot_metrics(m['metrics'])"
   ]
  },
  {
   "cell_type": "code",
   "execution_count": null,
   "metadata": {},
   "outputs": [],
   "source": []
  }
 ],
 "metadata": {
  "kernelspec": {
   "display_name": "Python 3",
   "language": "python",
   "name": "python3"
  },
  "language_info": {
   "codemirror_mode": {
    "name": "ipython",
    "version": 3
   },
   "file_extension": ".py",
   "mimetype": "text/x-python",
   "name": "python",
   "nbconvert_exporter": "python",
   "pygments_lexer": "ipython3",
   "version": "3.7.3"
  }
 },
 "nbformat": 4,
 "nbformat_minor": 4
}
